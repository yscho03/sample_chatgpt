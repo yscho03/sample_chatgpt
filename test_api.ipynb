{
 "cells": [
  {
   "cell_type": "markdown",
   "id": "3269a465-cfe7-4942-ad38-1f636197c448",
   "metadata": {},
   "source": [
    "### ChatGPT API - sample code"
   ]
  },
  {
   "cell_type": "markdown",
   "id": "b76d05cf-3112-4c68-b189-248fea8f88ae",
   "metadata": {},
   "source": [
    "- [ChatGPT API 문서](https://platform.openai.com/docs/guides/chat/chat-vs-completions)\n",
    "- [ChatGPT API Key 발급](https://platform.openai.com/account/api-keys)"
   ]
  },
  {
   "cell_type": "code",
   "execution_count": 1,
   "id": "5e2ce9d5-58ba-4079-829e-e84492187772",
   "metadata": {},
   "outputs": [],
   "source": [
    "import openai"
   ]
  },
  {
   "cell_type": "code",
   "execution_count": 2,
   "id": "4d1d1a2e-b25b-4d68-9f78-7c5a96ffbf74",
   "metadata": {},
   "outputs": [],
   "source": [
    "openai.api_key = '[YOU-OPENAI-API]'"
   ]
  },
  {
   "cell_type": "code",
   "execution_count": 3,
   "id": "3e7386bf-0727-447d-a14d-7b864c5ed65a",
   "metadata": {},
   "outputs": [],
   "source": [
    "def request_chatgpt(msg):\n",
    "    return openai.ChatCompletion.create(\n",
    "        model='gpt-3.5-turbo',\n",
    "        messages=msg\n",
    "    )    "
   ]
  },
  {
   "cell_type": "markdown",
   "id": "384292ce-f3da-4d47-866e-ffaa7bf94316",
   "metadata": {},
   "source": [
    "#### 1. 초기 요청"
   ]
  },
  {
   "cell_type": "code",
   "execution_count": 4,
   "id": "0bd31e1e-3fec-4ad9-9e6f-b604af20acb0",
   "metadata": {},
   "outputs": [],
   "source": [
    "msg = [\n",
    "    {'role': 'system', 'content': 'You are a helpful assistant.'},\n",
    "    {'role': 'user', 'content': 'E-commerce 회사가 하는 일에 대해서 알려줘'},\n",
    "]"
   ]
  },
  {
   "cell_type": "code",
   "execution_count": 5,
   "id": "2c2b9414-3c8c-4dcf-8dd1-dac7b695b13c",
   "metadata": {},
   "outputs": [
    {
     "data": {
      "text/plain": [
       "<OpenAIObject chat.completion id=chatcmpl-6qsXr8j5hfK2NpjTMcqJVzW8Js9Q7 at 0x7fabdb2b94f0> JSON: {\n",
       "  \"choices\": [\n",
       "    {\n",
       "      \"finish_reason\": \"stop\",\n",
       "      \"index\": 0,\n",
       "      \"message\": {\n",
       "        \"content\": \"E-commerce \\ud68c\\uc0ac\\ub294 \\uc778\\ud130\\ub137\\uc744 \\ud1b5\\ud574 \\uc0c1\\ud488\\uc774\\ub098 \\uc11c\\ube44\\uc2a4\\ub97c \\ud310\\ub9e4\\ud558\\ub294 \\ud68c\\uc0ac\\uc785\\ub2c8\\ub2e4. \\uc77c\\ubc18\\uc801\\uc73c\\ub85c E-commerce \\ud68c\\uc0ac\\ub294 \\ub2e4\\uc74c\\uacfc \\uac19\\uc740 \\uc77c\\uc744 \\ud569\\ub2c8\\ub2e4:\\n\\n1. \\uc81c\\ud488 \\ub610\\ub294 \\uc11c\\ube44\\uc2a4 \\ud310\\ub9e4: E-commerce \\ud68c\\uc0ac\\ub294 \\uc778\\ud130\\ub137\\uc5d0\\uc11c \\uc81c\\ud488\\uc774\\ub098 \\uc11c\\ube44\\uc2a4\\ub97c \\ud310\\ub9e4\\ud558\\ub294\\ub370, \\uc774\\ub294 \\uc804\\uc790 \\uc0c1\\uac70\\ub798 \\ud50c\\ub7ab\\ud3fc\\uc744 \\ud1b5\\ud574 \\uc774\\ub8e8\\uc5b4\\uc9d1\\ub2c8\\ub2e4. \\uace0\\uac1d\\ub4e4\\uc740 \\uc6f9\\uc0ac\\uc774\\ud2b8\\uc5d0\\uc11c \\uc81c\\ud488 \\ub610\\ub294 \\uc11c\\ube44\\uc2a4\\ub97c \\uc120\\ud0dd\\ud558\\uace0 \\uacb0\\uc81c\\ud560 \\uc218 \\uc788\\uc2b5\\ub2c8\\ub2e4.\\n\\n2. \\uc7ac\\uace0 \\uad00\\ub9ac: E-commerce \\ud68c\\uc0ac\\ub294 \\uace0\\uac1d\\uc758 \\uc8fc\\ubb38\\uc5d0 \\ub300\\uc751\\ud558\\uc5ec \\uc801\\uc808\\ud55c \\uc218\\ub7c9\\uc758 \\uc0c1\\ud488\\uc744 \\ubcf4\\uc720\\ud558\\uace0 \\uc788\\uc5b4\\uc57c \\ud569\\ub2c8\\ub2e4. \\uc774\\ub294 \\ud6a8\\uc728\\uc801\\uc778 \\uc7ac\\uace0 \\uad00\\ub9ac\\ub85c \\uac00\\ub2a5\\ud569\\ub2c8\\ub2e4.\\n\\n3. \\ubc30\\uc1a1 \\ubc0f \\ubb3c\\ub958: E-commerce \\ud68c\\uc0ac\\ub294 \\uc8fc\\ubb38\\uc774 \\ub4e4\\uc5b4\\uc624\\uba74 \\uc0c1\\ud488\\uc744 \\ud3ec\\uc7a5\\ud558\\uace0 \\ubc30\\uc1a1\\ud558\\ub294 \\uc77c\\uc744 \\ub2f4\\ub2f9\\ud569\\ub2c8\\ub2e4. \\uc774\\ub97c \\uc704\\ud574 \\ubb3c\\ub958\\uc13c\\ud130\\ub97c \\uc6b4\\uc601\\ud558\\uace0 \\ubc30\\uc1a1 \\ud30c\\ud2b8\\ub108\\uc0ac\\uc640 \\ud611\\ub825\\ud569\\ub2c8\\ub2e4.\\n\\n4. \\uc628\\ub77c\\uc778 \\ub9c8\\ucf00\\ud305: E-commerce \\ud68c\\uc0ac\\ub294 \\uc6f9\\uc0ac\\uc774\\ud2b8\\ub97c \\ud1b5\\ud574 \\uc801\\uadf9\\uc801\\uc778 \\ub9c8\\ucf00\\ud305\\uc744 \\uc9c4\\ud589\\ud569\\ub2c8\\ub2e4. \\uc774\\ub294 \\uac80\\uc0c9\\uc5d4\\uc9c4 \\ucd5c\\uc801\\ud654(SEO), \\uac80\\uc0c9\\uad11\\uace0(SEM), \\uc18c\\uc15c\\ubbf8\\ub514\\uc5b4 \\ub9c8\\ucf00\\ud305 \\ub4f1\\uc744 \\ud3ec\\ud568\\ud569\\ub2c8\\ub2e4.\\n\\n5. \\uace0\\uac1d\\uc11c\\ube44\\uc2a4: \\uace0\\uac1d\\uc740 E-commerce \\ud68c\\uc0ac\\uc640 \\uc8fc\\ubb38, \\uacb0\\uc81c, \\ubc30\\uc1a1 \\ub4f1\\uc5d0 \\ub300\\ud55c \\ubb38\\uc758\\uc0ac\\ud56d\\uc744 \\uac00\\uc9c0\\uace0 \\uc788\\uc744 \\uc218 \\uc788\\uc2b5\\ub2c8\\ub2e4. \\uc774\\ub97c \\ucc98\\ub9ac\\ud558\\ub294 \\uace0\\uac1d\\uc11c\\ube44\\uc2a4 \\ud300\\uc774 \\ud544\\uc694\\ud569\\ub2c8\\ub2e4.\",\n",
       "        \"role\": \"assistant\"\n",
       "      }\n",
       "    }\n",
       "  ],\n",
       "  \"created\": 1678060747,\n",
       "  \"id\": \"chatcmpl-6qsXr8j5hfK2NpjTMcqJVzW8Js9Q7\",\n",
       "  \"model\": \"gpt-3.5-turbo-0301\",\n",
       "  \"object\": \"chat.completion\",\n",
       "  \"usage\": {\n",
       "    \"completion_tokens\": 459,\n",
       "    \"prompt_tokens\": 35,\n",
       "    \"total_tokens\": 494\n",
       "  }\n",
       "}"
      ]
     },
     "execution_count": 5,
     "metadata": {},
     "output_type": "execute_result"
    }
   ],
   "source": [
    "res = request_chatgpt(msg)\n",
    "res"
   ]
  },
  {
   "cell_type": "code",
   "execution_count": null,
   "id": "8958f758-795c-489d-8e3c-988ae4eeb01f",
   "metadata": {},
   "outputs": [],
   "source": []
  },
  {
   "cell_type": "code",
   "execution_count": 6,
   "id": "f85f55e5-22f8-4127-9a3d-0a24f1784f3a",
   "metadata": {},
   "outputs": [
    {
     "data": {
      "text/plain": [
       "'E-commerce 회사는 인터넷을 통해 상품이나 서비스를 판매하는 회사입니다. 일반적으로 E-commerce 회사는 다음과 같은 일을 합니다:\\n\\n1. 제품 또는 서비스 판매: E-commerce 회사는 인터넷에서 제품이나 서비스를 판매하는데, 이는 전자 상거래 플랫폼을 통해 이루어집니다. 고객들은 웹사이트에서 제품 또는 서비스를 선택하고 결제할 수 있습니다.\\n\\n2. 재고 관리: E-commerce 회사는 고객의 주문에 대응하여 적절한 수량의 상품을 보유하고 있어야 합니다. 이는 효율적인 재고 관리로 가능합니다.\\n\\n3. 배송 및 물류: E-commerce 회사는 주문이 들어오면 상품을 포장하고 배송하는 일을 담당합니다. 이를 위해 물류센터를 운영하고 배송 파트너사와 협력합니다.\\n\\n4. 온라인 마케팅: E-commerce 회사는 웹사이트를 통해 적극적인 마케팅을 진행합니다. 이는 검색엔진 최적화(SEO), 검색광고(SEM), 소셜미디어 마케팅 등을 포함합니다.\\n\\n5. 고객서비스: 고객은 E-commerce 회사와 주문, 결제, 배송 등에 대한 문의사항을 가지고 있을 수 있습니다. 이를 처리하는 고객서비스 팀이 필요합니다.'"
      ]
     },
     "execution_count": 6,
     "metadata": {},
     "output_type": "execute_result"
    }
   ],
   "source": [
    "content = res['choices'][0]['message']['content']\n",
    "content"
   ]
  },
  {
   "cell_type": "markdown",
   "id": "ef5ed719-8732-4744-97d6-e23e628580d5",
   "metadata": {},
   "source": [
    "#### 2. 이어서 요청"
   ]
  },
  {
   "cell_type": "code",
   "execution_count": 7,
   "id": "be8aa417-9cdf-44eb-a2e1-9c0c0832efcf",
   "metadata": {},
   "outputs": [],
   "source": [
    "msg.append({\n",
    "    'role': 'assistant',\n",
    "    'content': content\n",
    "})\n",
    "\n",
    "msg.append({\n",
    "    'role': 'user',\n",
    "    'content': '위의 문장을 요약해줘'\n",
    "})"
   ]
  },
  {
   "cell_type": "code",
   "execution_count": 8,
   "id": "8301f1d6-de5c-4fe2-9b5f-fbd216506460",
   "metadata": {},
   "outputs": [
    {
     "data": {
      "text/plain": [
       "<OpenAIObject chat.completion id=chatcmpl-6qsY3vY7GjDNrJ436xyIGlilWFlgt at 0x7fabda2790e0> JSON: {\n",
       "  \"choices\": [\n",
       "    {\n",
       "      \"finish_reason\": \"stop\",\n",
       "      \"index\": 0,\n",
       "      \"message\": {\n",
       "        \"content\": \"E-commerce \\ud68c\\uc0ac\\ub294 \\uc778\\ud130\\ub137\\uc744 \\ud1b5\\ud574 \\uc81c\\ud488\\uc774\\ub098 \\uc11c\\ube44\\uc2a4\\ub97c \\ud310\\ub9e4\\ud558\\uba70, \\uc7ac\\uace0\\uad00\\ub9ac, \\ubc30\\uc1a1 \\ubc0f \\ubb3c\\ub958, \\ub9c8\\ucf00\\ud305, \\uace0\\uac1d\\uc11c\\ube44\\uc2a4 \\ub4f1\\uc758 \\uc5c5\\ubb34\\ub97c \\uc218\\ud589\\ud569\\ub2c8\\ub2e4.\",\n",
       "        \"role\": \"assistant\"\n",
       "      }\n",
       "    }\n",
       "  ],\n",
       "  \"created\": 1678060759,\n",
       "  \"id\": \"chatcmpl-6qsY3vY7GjDNrJ436xyIGlilWFlgt\",\n",
       "  \"model\": \"gpt-3.5-turbo-0301\",\n",
       "  \"object\": \"chat.completion\",\n",
       "  \"usage\": {\n",
       "    \"completion_tokens\": 76,\n",
       "    \"prompt_tokens\": 513,\n",
       "    \"total_tokens\": 589\n",
       "  }\n",
       "}"
      ]
     },
     "execution_count": 8,
     "metadata": {},
     "output_type": "execute_result"
    }
   ],
   "source": [
    "res = request_chatgpt(msg)\n",
    "res"
   ]
  },
  {
   "cell_type": "code",
   "execution_count": 9,
   "id": "2ca36be9-7b22-4c01-9b1f-9660cec19238",
   "metadata": {},
   "outputs": [
    {
     "data": {
      "text/plain": [
       "'E-commerce 회사는 인터넷을 통해 제품이나 서비스를 판매하며, 재고관리, 배송 및 물류, 마케팅, 고객서비스 등의 업무를 수행합니다.'"
      ]
     },
     "execution_count": 9,
     "metadata": {},
     "output_type": "execute_result"
    }
   ],
   "source": [
    "content = res['choices'][0]['message']['content']\n",
    "content"
   ]
  }
 ],
 "metadata": {
  "kernelspec": {
   "display_name": "Python [conda env:.conda-sample_chatgpt]",
   "language": "python",
   "name": "conda-env-.conda-sample_chatgpt-py"
  },
  "language_info": {
   "codemirror_mode": {
    "name": "ipython",
    "version": 3
   },
   "file_extension": ".py",
   "mimetype": "text/x-python",
   "name": "python",
   "nbconvert_exporter": "python",
   "pygments_lexer": "ipython3",
   "version": "3.8.16"
  }
 },
 "nbformat": 4,
 "nbformat_minor": 5
}
